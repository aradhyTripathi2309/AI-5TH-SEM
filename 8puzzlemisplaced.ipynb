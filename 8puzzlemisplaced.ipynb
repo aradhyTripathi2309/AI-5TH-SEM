{
  "nbformat": 4,
  "nbformat_minor": 0,
  "metadata": {
    "colab": {
      "provenance": [],
      "authorship_tag": "ABX9TyM+iVoRBqOVsxDNX1tmKLhV",
      "include_colab_link": true
    },
    "kernelspec": {
      "name": "python3",
      "display_name": "Python 3"
    },
    "language_info": {
      "name": "python"
    }
  },
  "cells": [
    {
      "cell_type": "markdown",
      "metadata": {
        "id": "view-in-github",
        "colab_type": "text"
      },
      "source": [
        "<a href=\"https://colab.research.google.com/github/aradhyTripathi2309/AI-5TH-SEM/blob/main/8puzzlemisplaced.ipynb\" target=\"_parent\"><img src=\"https://colab.research.google.com/assets/colab-badge.svg\" alt=\"Open In Colab\"/></a>"
      ]
    },
    {
      "cell_type": "code",
      "execution_count": 1,
      "metadata": {
        "colab": {
          "base_uri": "https://localhost:8080/"
        },
        "id": "1ZdRvdNRYt2B",
        "outputId": "e6ba806b-f52f-42f3-f624-928475f63430"
      },
      "outputs": [
        {
          "output_type": "stream",
          "name": "stdout",
          "text": [
            "Solution found!\n",
            "[1, 2, 3, 4, 0, 5, 6, 7, 8]\n",
            "[1, 2, 3, 4, 5, 0, 6, 7, 8]\n",
            "[1, 2, 3, 4, 5, 8, 6, 7, 0]\n",
            "[1, 2, 3, 4, 5, 8, 6, 0, 7]\n",
            "[1, 2, 3, 4, 5, 8, 0, 6, 7]\n",
            "[1, 2, 3, 0, 5, 8, 4, 6, 7]\n",
            "[1, 2, 3, 5, 0, 8, 4, 6, 7]\n",
            "[1, 2, 3, 5, 6, 8, 4, 0, 7]\n",
            "[1, 2, 3, 5, 6, 8, 4, 7, 0]\n",
            "[1, 2, 3, 5, 6, 0, 4, 7, 8]\n",
            "[1, 2, 3, 5, 0, 6, 4, 7, 8]\n",
            "[1, 2, 3, 0, 5, 6, 4, 7, 8]\n",
            "[1, 2, 3, 4, 5, 6, 0, 7, 8]\n",
            "[1, 2, 3, 4, 5, 6, 7, 0, 8]\n",
            "[1, 2, 3, 4, 5, 6, 7, 8, 0]\n"
          ]
        }
      ],
      "source": [
        "import heapq\n",
        "\n",
        "class PuzzleState:\n",
        "    def __init__(self, board, moves=0, previous=None):\n",
        "        self.board = board\n",
        "        self.blank_index = board.index(0)\n",
        "        self.moves = moves\n",
        "        self.previous = previous\n",
        "        self.priority = self.moves + self.misplaced_tiles()\n",
        "\n",
        "    def __lt__(self, other):\n",
        "        return self.priority < other.priority\n",
        "\n",
        "    def misplaced_tiles(self):\n",
        "        goal_state = [1, 2, 3, 4, 5, 6, 7, 8, 0]\n",
        "        return sum(1 for i in range(9) if self.board[i] != 0 and self.board[i] != goal_state[i])\n",
        "\n",
        "def generate_successors(state):\n",
        "    successors = []\n",
        "    x, y = divmod(state.blank_index, 3)\n",
        "\n",
        "    directions = [(-1, 0), (1, 0), (0, -1), (0, 1)]  # up, down, left, right\n",
        "    for dx, dy in directions:\n",
        "        new_x, new_y = x + dx, y + dy\n",
        "        if 0 <= new_x < 3 and 0 <= new_y < 3:\n",
        "            new_index = new_x * 3 + new_y\n",
        "            new_board = state.board[:]\n",
        "            new_board[state.blank_index], new_board[new_index] = new_board[new_index], new_board[state.blank_index]\n",
        "            successors.append(PuzzleState(new_board, state.moves + 1, state))\n",
        "\n",
        "    return successors\n",
        "\n",
        "def a_star(initial_state):\n",
        "    open_list = []\n",
        "    closed_set = set()\n",
        "    heapq.heappush(open_list, PuzzleState(initial_state))\n",
        "\n",
        "    while open_list:\n",
        "        current_state = heapq.heappop(open_list)\n",
        "\n",
        "        if current_state.board == [1, 2, 3, 4, 5, 6, 7, 8, 0]:\n",
        "            return current_state\n",
        "\n",
        "        closed_set.add(tuple(current_state.board))\n",
        "\n",
        "        for successor in generate_successors(current_state):\n",
        "            if tuple(successor.board) in closed_set:\n",
        "                continue\n",
        "\n",
        "            heapq.heappush(open_list, successor)\n",
        "\n",
        "    return None  # No solution\n",
        "\n",
        "def print_solution(solution):\n",
        "    path = []\n",
        "    while solution:\n",
        "        path.append(solution.board)\n",
        "        solution = solution.previous\n",
        "    for state in reversed(path):\n",
        "        print(state)\n",
        "\n",
        "# Example usage\n",
        "initial_state = [1, 2, 3, 4, 0, 5, 6, 7, 8]\n",
        "solution = a_star(initial_state)\n",
        "\n",
        "if solution:\n",
        "    print(\"Solution found!\")\n",
        "    print_solution(solution)\n",
        "else:\n",
        "    print(\"No solution exists.\")\n"
      ]
    }
  ]
}