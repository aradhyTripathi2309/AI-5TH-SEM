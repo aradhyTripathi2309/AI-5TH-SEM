{
  "nbformat": 4,
  "nbformat_minor": 0,
  "metadata": {
    "colab": {
      "provenance": [],
      "authorship_tag": "ABX9TyPZbAsSv3N6wnzDL6r6sJFn",
      "include_colab_link": true
    },
    "kernelspec": {
      "name": "python3",
      "display_name": "Python 3"
    },
    "language_info": {
      "name": "python"
    }
  },
  "cells": [
    {
      "cell_type": "markdown",
      "metadata": {
        "id": "view-in-github",
        "colab_type": "text"
      },
      "source": [
        "<a href=\"https://colab.research.google.com/github/aradhyTripathi2309/AI-5TH-SEM/blob/main/tictactoe.ipynb\" target=\"_parent\"><img src=\"https://colab.research.google.com/assets/colab-badge.svg\" alt=\"Open In Colab\"/></a>"
      ]
    },
    {
      "cell_type": "code",
      "execution_count": 2,
      "metadata": {
        "colab": {
          "base_uri": "https://localhost:8080/"
        },
        "id": "VPikeotSOfln",
        "outputId": "d9e4494f-0e94-4e1c-9b25-4198f168129a"
      },
      "outputs": [
        {
          "output_type": "stream",
          "name": "stdout",
          "text": [
            "- | - | -\n",
            "- | - | -\n",
            "- | - | -\n",
            "X's turn.\n",
            "Choose a position from 1-9: 2\n",
            "- | X | -\n",
            "- | - | -\n",
            "- | - | -\n",
            "O's turn.\n",
            "Choose a position from 1-9: 5\n",
            "- | X | -\n",
            "- | O | -\n",
            "- | - | -\n",
            "X's turn.\n",
            "Choose a position from 1-9: 1\n",
            "X | X | -\n",
            "- | O | -\n",
            "- | - | -\n",
            "O's turn.\n",
            "Choose a position from 1-9: 6\n",
            "X | X | -\n",
            "- | O | O\n",
            "- | - | -\n",
            "X's turn.\n",
            "Choose a position from 1-9: 3\n",
            "X | X | X\n",
            "- | O | O\n",
            "- | - | -\n",
            "X wins!\n"
          ]
        }
      ],
      "source": [
        "\n",
        "\n",
        "board = [\"-\", \"-\", \"-\",\n",
        "         \"-\", \"-\", \"-\",\n",
        "         \"-\", \"-\", \"-\"]\n",
        "def print_board():\n",
        "    print(board[0] + \" | \" + board[1] + \" | \" + board[2])\n",
        "    print(board[3] + \" | \" + board[4] + \" | \" + board[5])\n",
        "    print(board[6] + \" | \" + board[7] + \" | \" + board[8])\n",
        "\n",
        "def take_turn(player):\n",
        "    print(player + \"'s turn.\")\n",
        "    position = input(\"Choose a position from 1-9: \")\n",
        "    while position not in [\"1\", \"2\", \"3\", \"4\", \"5\", \"6\", \"7\", \"8\", \"9\"]:\n",
        "        position = input(\"Invalid input. Choose a position from 1-9: \")\n",
        "    position = int(position) - 1\n",
        "    while board[position] != \"-\":\n",
        "        position = int(input(\"Position already taken. Choose a different position: \")) - 1\n",
        "    board[position] = player\n",
        "    print_board()\n",
        "\n",
        "\n",
        "def check_game_over():\n",
        "    if (board[0] == board[1] == board[2] != \"-\") or \\\n",
        "       (board[3] == board[4] == board[5] != \"-\") or \\\n",
        "       (board[6] == board[7] == board[8] != \"-\") or \\\n",
        "       (board[0] == board[3] == board[6] != \"-\") or \\\n",
        "       (board[1] == board[4] == board[7] != \"-\") or \\\n",
        "       (board[2] == board[5] == board[8] != \"-\") or \\\n",
        "       (board[0] == board[4] == board[8] != \"-\") or \\\n",
        "       (board[2] == board[4] == board[6] != \"-\"):\n",
        "        return \"win\"\n",
        "    elif \"-\" not in board:\n",
        "        return \"tie\"\n",
        "    else:\n",
        "        return \"play\"\n",
        "\n",
        "def play_game():\n",
        "    print_board()\n",
        "    current_player = \"X\"\n",
        "    game_over = False\n",
        "    while not game_over:\n",
        "        take_turn(current_player)\n",
        "        game_result = check_game_over()\n",
        "        if game_result == \"win\":\n",
        "            print(current_player + \" wins!\")\n",
        "            game_over = True\n",
        "        elif game_result == \"tie\":\n",
        "            print(\"It's a tie!\")\n",
        "            game_over = True\n",
        "        else:\n",
        "            current_player = \"O\" if current_player == \"X\" else \"X\"\n",
        "\n",
        "play_game()\n",
        "\n"
      ]
    },
    {
      "cell_type": "code",
      "source": [],
      "metadata": {
        "id": "T9JYsluIQGeZ"
      },
      "execution_count": null,
      "outputs": []
    }
  ]
}