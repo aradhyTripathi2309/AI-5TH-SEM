{
  "nbformat": 4,
  "nbformat_minor": 0,
  "metadata": {
    "colab": {
      "provenance": [],
      "authorship_tag": "ABX9TyN9hd8AOoL1uL/ZZLONlcz+",
      "include_colab_link": true
    },
    "kernelspec": {
      "name": "python3",
      "display_name": "Python 3"
    },
    "language_info": {
      "name": "python"
    }
  },
  "cells": [
    {
      "cell_type": "markdown",
      "metadata": {
        "id": "view-in-github",
        "colab_type": "text"
      },
      "source": [
        "<a href=\"https://colab.research.google.com/github/aradhyTripathi2309/AI-5TH-SEM/blob/main/1BM22CS049_SIMULATED_ANNEALING.ipynb\" target=\"_parent\"><img src=\"https://colab.research.google.com/assets/colab-badge.svg\" alt=\"Open In Colab\"/></a>"
      ]
    },
    {
      "cell_type": "code",
      "execution_count": 1,
      "metadata": {
        "colab": {
          "base_uri": "https://localhost:8080/"
        },
        "id": "DUDgaPfRhnDK",
        "outputId": "a5a06deb-fe0d-4d33-9324-952854abefc2"
      },
      "outputs": [
        {
          "output_type": "stream",
          "name": "stdout",
          "text": [
            "Solution found!\n",
            ". Q . . . . . .\n",
            ". . . Q . . . .\n",
            ". . . . . Q . .\n",
            ". . . . . . . Q\n",
            ". . Q . . . . .\n",
            "Q . . . . . . .\n",
            ". . . . . . Q .\n",
            ". . . . Q . . .\n",
            "\n",
            "Conflicts: 0\n"
          ]
        }
      ],
      "source": [
        "import random\n",
        "import math\n",
        "\n",
        "# Energy function: Calculates the number of attacking pairs of queens\n",
        "def calculate_conflicts(board):\n",
        "    conflicts = 0\n",
        "    for i in range(len(board)):\n",
        "        for j in range(i + 1, len(board)):\n",
        "            if board[i] == board[j]:  # Same row\n",
        "                conflicts += 1\n",
        "            elif abs(board[i] - board[j]) == j - i:  # Same diagonal\n",
        "                conflicts += 1\n",
        "    return conflicts\n",
        "\n",
        "# Generate a random initial solution\n",
        "def generate_initial_solution(n):\n",
        "    return [random.randint(0, n-1) for _ in range(n)]\n",
        "\n",
        "# Function to generate neighbors (by moving a random queen)\n",
        "def generate_neighbor(board):\n",
        "    neighbor = board[:]\n",
        "    col = random.randint(0, len(board) - 1)\n",
        "    row = random.randint(0, len(board) - 1)\n",
        "    neighbor[col] = row\n",
        "    return neighbor\n",
        "\n",
        "# Simulated Annealing Algorithm\n",
        "def simulated_annealing(n, initial_temperature=100, cooling_rate=0.95, max_iterations=10000):\n",
        "    current_solution = generate_initial_solution(n)\n",
        "    current_energy = calculate_conflicts(current_solution)\n",
        "\n",
        "    temperature = initial_temperature\n",
        "    best_solution = current_solution\n",
        "    best_energy = current_energy\n",
        "\n",
        "    for iteration in range(max_iterations):\n",
        "        if current_energy == 0:\n",
        "            print(\"Solution found!\")\n",
        "            return current_solution\n",
        "\n",
        "        # Generate a neighbor solution\n",
        "        neighbor = generate_neighbor(current_solution)\n",
        "        neighbor_energy = calculate_conflicts(neighbor)\n",
        "\n",
        "        # Calculate the energy difference\n",
        "        delta_energy = neighbor_energy - current_energy\n",
        "\n",
        "        # Decide whether to accept the neighbor solution\n",
        "        if delta_energy < 0 or random.random() < math.exp(-delta_energy / temperature):\n",
        "            current_solution = neighbor\n",
        "            current_energy = neighbor_energy\n",
        "\n",
        "            # If this is the best solution so far, keep it\n",
        "            if current_energy < best_energy:\n",
        "                best_solution = current_solution\n",
        "                best_energy = current_energy\n",
        "\n",
        "        # Cool the system\n",
        "        temperature *= cooling_rate\n",
        "\n",
        "    print(\"Max iterations reached.\")\n",
        "    return best_solution\n",
        "\n",
        "# Visualize the board\n",
        "def print_board(board):\n",
        "    n = len(board)\n",
        "    for row in range(n):\n",
        "        line = ['Q' if board[col] == row else '.' for col in range(n)]\n",
        "        print(' '.join(line))\n",
        "    print()\n",
        "\n",
        "# Main function to run the simulated annealing\n",
        "def main():\n",
        "    n = 8  # 8-Queens problem\n",
        "    solution = simulated_annealing(n)\n",
        "    print_board(solution)\n",
        "    print(f\"Conflicts: {calculate_conflicts(solution)}\")\n",
        "\n",
        "if __name__ == \"__main__\":\n",
        "    main()\n"
      ]
    },
    {
      "cell_type": "code",
      "source": [],
      "metadata": {
        "id": "W6m3SWAjihOP"
      },
      "execution_count": null,
      "outputs": []
    }
  ]
}