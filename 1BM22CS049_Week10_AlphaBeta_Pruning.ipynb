{
  "nbformat": 4,
  "nbformat_minor": 0,
  "metadata": {
    "colab": {
      "provenance": [],
      "authorship_tag": "ABX9TyMfiVjMwGD4x6ja0miyAG2l",
      "include_colab_link": true
    },
    "kernelspec": {
      "name": "python3",
      "display_name": "Python 3"
    },
    "language_info": {
      "name": "python"
    }
  },
  "cells": [
    {
      "cell_type": "markdown",
      "metadata": {
        "id": "view-in-github",
        "colab_type": "text"
      },
      "source": [
        "<a href=\"https://colab.research.google.com/github/aradhyTripathi2309/AI-5TH-SEM/blob/main/1BM22CS049_Week10_AlphaBeta_Pruning.ipynb\" target=\"_parent\"><img src=\"https://colab.research.google.com/assets/colab-badge.svg\" alt=\"Open In Colab\"/></a>"
      ]
    },
    {
      "cell_type": "code",
      "execution_count": 6,
      "metadata": {
        "colab": {
          "base_uri": "https://localhost:8080/"
        },
        "id": "Cc-YXXhWitik",
        "outputId": "cf44363f-bb43-4a94-99fe-91d34e2b93a6"
      },
      "outputs": [
        {
          "output_type": "stream",
          "name": "stdout",
          "text": [
            "Enter leaf node values separated by space: 10 9 14 18 5 4 50 3\n",
            "Enter branching factor: 2\n",
            "Best value for the root: 10\n"
          ]
        }
      ],
      "source": [
        "class GameTreeNode:\n",
        "    def __init__(self, value=None, children=None):\n",
        "        self.value = value  # Value of the node, used for leaf nodes\n",
        "        self.children = children or []  # List of child nodes\n",
        "\n",
        "\n",
        "def alpha_beta_pruning(node, depth, alpha, beta, maximizing_player):\n",
        "    \"\"\"\n",
        "    Perform Alpha-Beta Pruning on the game tree.\n",
        "\n",
        "    :param node: Current game tree node\n",
        "    :param depth: Current depth of the tree\n",
        "    :param alpha: Alpha value (best option for maximizer)\n",
        "    :param beta: Beta value (best option for minimizer)\n",
        "    :param maximizing_player: True if maximizing player, False if minimizing\n",
        "    :return: Best value for the node\n",
        "    \"\"\"\n",
        "    # Base case: if leaf node or depth limit is reached\n",
        "    if depth == 0 or not node.children:\n",
        "        return node.value\n",
        "\n",
        "    if maximizing_player:\n",
        "        max_eval = float('-inf')\n",
        "        for child in node.children:\n",
        "            eval = alpha_beta_pruning(child, depth - 1, alpha, beta, False)\n",
        "            max_eval = max(max_eval, eval)\n",
        "            alpha = max(alpha, eval)\n",
        "            if beta <= alpha:\n",
        "                break  # Beta cutoff\n",
        "        return max_eval\n",
        "    else:\n",
        "        min_eval = float('inf')\n",
        "        for child in node.children:\n",
        "            eval = alpha_beta_pruning(child, depth - 1, alpha, beta, True)\n",
        "            min_eval = min(min_eval, eval)\n",
        "            beta = min(beta, eval)\n",
        "            if beta <= alpha:\n",
        "                break  # Alpha cutoff\n",
        "        return min_eval\n",
        "\n",
        "\n",
        "def build_game_tree(values, branching_factor):\n",
        "    \"\"\"\n",
        "    Build a game tree based on the given leaf values and branching factor.\n",
        "\n",
        "    :param values: List of leaf values\n",
        "    :param branching_factor: Number of children each non-leaf node has\n",
        "    :return: Root of the game tree\n",
        "    \"\"\"\n",
        "    nodes = [GameTreeNode(value=v) for v in values]\n",
        "\n",
        "    while len(nodes) > 1:\n",
        "        next_level = []\n",
        "        for i in range(0, len(nodes), branching_factor):\n",
        "            next_level.append(GameTreeNode(children=nodes[i:i + branching_factor]))\n",
        "        nodes = next_level\n",
        "\n",
        "    return nodes[0]  # Root of the tree\n",
        "\n",
        "\n",
        "if __name__ == \"__main__\":\n",
        "    # Input leaf values and branching factor\n",
        "    leaf_values = list(map(int, input(\"Enter leaf node values separated by space: \").split()))\n",
        "    branching_factor = int(input(\"Enter branching factor: \"))\n",
        "\n",
        "    # Calculate the depth of the tree\n",
        "    import math\n",
        "    depth = math.ceil(math.log(len(leaf_values), branching_factor))\n",
        "\n",
        "    # Build the game tree\n",
        "    game_tree = build_game_tree(leaf_values, branching_factor)\n",
        "\n",
        "    # Run Alpha-Beta Pruning\n",
        "    best_value = alpha_beta_pruning(game_tree, depth=depth, alpha=float('-inf'), beta=float('inf'), maximizing_player=True)\n",
        "    print(f\"Best value for the root: {best_value}\")\n"
      ]
    },
    {
      "cell_type": "code",
      "source": [],
      "metadata": {
        "id": "zrZ0wu2IjF2u"
      },
      "execution_count": null,
      "outputs": []
    }
  ]
}