{
  "nbformat": 4,
  "nbformat_minor": 0,
  "metadata": {
    "colab": {
      "provenance": [],
      "authorship_tag": "ABX9TyM62sEvRNfpojfQxx36929X",
      "include_colab_link": true
    },
    "kernelspec": {
      "name": "python3",
      "display_name": "Python 3"
    },
    "language_info": {
      "name": "python"
    }
  },
  "cells": [
    {
      "cell_type": "markdown",
      "metadata": {
        "id": "view-in-github",
        "colab_type": "text"
      },
      "source": [
        "<a href=\"https://colab.research.google.com/github/aradhyTripathi2309/AI-5TH-SEM/blob/main/8puzzledfs.ipynb\" target=\"_parent\"><img src=\"https://colab.research.google.com/assets/colab-badge.svg\" alt=\"Open In Colab\"/></a>"
      ]
    },
    {
      "cell_type": "code",
      "execution_count": null,
      "metadata": {
        "id": "udeZsW4TTj8f"
      },
      "outputs": [],
      "source": [
        "#DFS (DEPTH FIRST SEARCH)\n",
        "from collections import deque\n",
        "\n",
        "\n",
        "goal_state = [[1, 2, 3], [4, 5, 6], [7, 8, 0]]\n",
        "\n",
        "\n",
        "moves = {\n",
        "    (0, 1): \"Right\",\n",
        "    (0, -1): \"Left\",\n",
        "    (1, 0): \"Down\",\n",
        "    (-1, 0): \"Up\"\n",
        "}\n",
        "\n",
        "def is_goal(state):\n",
        "    return state == goal_state\n",
        "\n",
        "def dfs(state):\n",
        "    visited = set()\n",
        "    stack = deque([(state, [])])\n",
        "\n",
        "    while stack:\n",
        "        state, path = stack.pop()\n",
        "        if is_goal(state):\n",
        "            return path + [(state, \"Goal\")]\n",
        "        state_tuple = tuple(map(tuple, state))\n",
        "        if state_tuple not in visited:\n",
        "            visited.add(state_tuple)\n",
        "            for i in range(3):\n",
        "                for j in range(3):\n",
        "                    if state[i][j] == 0:\n",
        "                        for move, direction in moves.items():\n",
        "                            new_i, new_j = i + move[0], j + move[1]\n",
        "                            if 0 <= new_i < 3 and 0 <= new_j < 3:\n",
        "                                new_state = [row[:] for row in state]\n",
        "                                new_state[i][j], new_state[new_i][new_j] = new_state[new_i][new_j], new_state[i][j]\n",
        "\n",
        "                                stack.append((new_state, path + [(state, direction)]))\n",
        "    return None\n",
        "\n",
        "def print_solution(solution):\n",
        "    if solution:\n",
        "        print(\"Solution found:\")\n",
        "        for i, (state, direction) in enumerate(solution[1:]):\n",
        "            print(f\"Move {i}: {direction}\")\n",
        "            for row in state:\n",
        "                print(row)\n",
        "            print()\n",
        "    else:\n",
        "        print(\"No solution found\")\n",
        "\n",
        "\n",
        "initial_state = [[1, 2, 3], [4, 5, 6], [0, 7, 8]]\n",
        "solution = dfs(initial_state)\n",
        "print_solution(solution)"
      ]
    }
  ]
}